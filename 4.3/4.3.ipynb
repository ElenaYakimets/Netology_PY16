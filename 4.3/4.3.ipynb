{
 "cells": [
  {
   "cell_type": "code",
   "execution_count": 1,
   "metadata": {},
   "outputs": [],
   "source": [
    "import requests\n",
    "\n",
    "import pandas as pd\n",
    "import numpy as np\n",
    "import matplotlib.pyplot as plt\n",
    "\n",
    "%matplotlib inline"
   ]
  },
  {
   "cell_type": "code",
   "execution_count": 2,
   "metadata": {},
   "outputs": [],
   "source": [
    "from scipy.cluster.vq import whiten, kmeans2"
   ]
  },
  {
   "cell_type": "code",
   "execution_count": 3,
   "metadata": {},
   "outputs": [],
   "source": [
    "def call_api(uri, result_key):\n",
    "    json = {}\n",
    "    try:\n",
    "        json = requests.get(uri, headers = { 'X-Auth-Token': 'be5abab7dd574861a85e6c39f7a315ca' }).json()\n",
    "        return json[result_key]\n",
    "    except:\n",
    "        print(json)\n",
    "        return None"
   ]
  },
  {
   "cell_type": "code",
   "execution_count": 4,
   "metadata": {},
   "outputs": [],
   "source": [
    "leagues = requests.get('http://api.football-data.org/v1/soccerseasons', headers = { 'X-Auth-Token': 'c52b7825851b4357af3e06c1888152f0' }).json()"
   ]
  },
  {
   "cell_type": "code",
   "execution_count": 5,
   "metadata": {},
   "outputs": [
    {
     "data": {
      "text/plain": [
       "{'_links': {'self': {'href': 'http://api.football-data.org/v1/soccerseasons/445'},\n",
       "  'teams': {'href': 'http://api.football-data.org/v1/soccerseasons/445/teams'},\n",
       "  'fixtures': {'href': 'http://api.football-data.org/v1/soccerseasons/445/fixtures'},\n",
       "  'leagueTable': {'href': 'http://api.football-data.org/v1/soccerseasons/445/leagueTable'}},\n",
       " 'id': 445,\n",
       " 'caption': 'Premier League 2017/18',\n",
       " 'league': 'PL',\n",
       " 'year': '2017',\n",
       " 'currentMatchday': 38,\n",
       " 'numberOfMatchdays': 38,\n",
       " 'numberOfTeams': 20,\n",
       " 'numberOfGames': 380,\n",
       " 'lastUpdated': '2018-05-18T17:50:08Z'}"
      ]
     },
     "execution_count": 5,
     "metadata": {},
     "output_type": "execute_result"
    }
   ],
   "source": [
    "leagues[1]"
   ]
  },
  {
   "cell_type": "code",
   "execution_count": 6,
   "metadata": {},
   "outputs": [
    {
     "data": {
      "text/plain": [
       "[{'_links': {'self': {'href': 'http://api.football-data.org/v1/teams/745'},\n",
       "   'fixtures': {'href': 'http://api.football-data.org/v1/teams/745/fixtures'},\n",
       "   'players': {'href': 'http://api.football-data.org/v1/teams/745/players'}},\n",
       "  'name': 'CD Leganes',\n",
       "  'code': 'LEG',\n",
       "  'shortName': 'Leganes',\n",
       "  'squadMarketValue': None,\n",
       "  'crestUrl': 'http://upload.wikimedia.org/wikipedia/en/thumb/0/02/Club_Deportivo_Leganés.png/180px-Club_Deportivo_Leganés.png'},\n",
       " {'_links': {'self': {'href': 'http://api.football-data.org/v1/teams/263'},\n",
       "   'fixtures': {'href': 'http://api.football-data.org/v1/teams/263/fixtures'},\n",
       "   'players': {'href': 'http://api.football-data.org/v1/teams/263/players'}},\n",
       "  'name': 'Deportivo Alavés',\n",
       "  'code': 'ALA',\n",
       "  'shortName': 'Alaves',\n",
       "  'squadMarketValue': None,\n",
       "  'crestUrl': 'http://upload.wikimedia.org/wikipedia/en/2/2e/Deportivo_Alaves_logo.svg'},\n",
       " {'_links': {'self': {'href': 'http://api.football-data.org/v1/teams/95'},\n",
       "   'fixtures': {'href': 'http://api.football-data.org/v1/teams/95/fixtures'},\n",
       "   'players': {'href': 'http://api.football-data.org/v1/teams/95/players'}},\n",
       "  'name': 'Valencia CF',\n",
       "  'code': 'VAL',\n",
       "  'shortName': 'Valencia',\n",
       "  'squadMarketValue': None,\n",
       "  'crestUrl': 'http://upload.wikimedia.org/wikipedia/de/7/75/FC_Valencia.svg'},\n",
       " {'_links': {'self': {'href': 'http://api.football-data.org/v1/teams/275'},\n",
       "   'fixtures': {'href': 'http://api.football-data.org/v1/teams/275/fixtures'},\n",
       "   'players': {'href': 'http://api.football-data.org/v1/teams/275/players'}},\n",
       "  'name': 'UD Las Palmas',\n",
       "  'code': 'LPA',\n",
       "  'shortName': 'Las Palmas',\n",
       "  'squadMarketValue': None,\n",
       "  'crestUrl': 'http://upload.wikimedia.org/wikipedia/en/2/20/UD_Las_Palmas_logo.svg'},\n",
       " {'_links': {'self': {'href': 'http://api.football-data.org/v1/teams/558'},\n",
       "   'fixtures': {'href': 'http://api.football-data.org/v1/teams/558/fixtures'},\n",
       "   'players': {'href': 'http://api.football-data.org/v1/teams/558/players'}},\n",
       "  'name': 'RC Celta de Vigo',\n",
       "  'code': 'VIG',\n",
       "  'shortName': 'Celta Vigo',\n",
       "  'squadMarketValue': None,\n",
       "  'crestUrl': 'http://upload.wikimedia.org/wikipedia/de/0/0c/Celta_Vigo.svg'},\n",
       " {'_links': {'self': {'href': 'http://api.football-data.org/v1/teams/92'},\n",
       "   'fixtures': {'href': 'http://api.football-data.org/v1/teams/92/fixtures'},\n",
       "   'players': {'href': 'http://api.football-data.org/v1/teams/92/players'}},\n",
       "  'name': 'Real Sociedad de Fútbol',\n",
       "  'code': 'RSS',\n",
       "  'shortName': 'Real Sociedad',\n",
       "  'squadMarketValue': None,\n",
       "  'crestUrl': 'http://upload.wikimedia.org/wikipedia/de/5/55/Real_Sociedad_San_Sebastián.svg'},\n",
       " {'_links': {'self': {'href': 'http://api.football-data.org/v1/teams/298'},\n",
       "   'fixtures': {'href': 'http://api.football-data.org/v1/teams/298/fixtures'},\n",
       "   'players': {'href': 'http://api.football-data.org/v1/teams/298/players'}},\n",
       "  'name': 'Girona FC',\n",
       "  'code': 'GFC',\n",
       "  'shortName': 'Girona',\n",
       "  'squadMarketValue': None,\n",
       "  'crestUrl': 'http://upload.wikimedia.org/wikipedia/en/9/90/For_article_Girona_FC.svg'},\n",
       " {'_links': {'self': {'href': 'http://api.football-data.org/v1/teams/78'},\n",
       "   'fixtures': {'href': 'http://api.football-data.org/v1/teams/78/fixtures'},\n",
       "   'players': {'href': 'http://api.football-data.org/v1/teams/78/players'}},\n",
       "  'name': 'Club Atlético de Madrid',\n",
       "  'code': 'ATM',\n",
       "  'shortName': 'Atlético',\n",
       "  'squadMarketValue': None,\n",
       "  'crestUrl': 'http://upload.wikimedia.org/wikipedia/de/c/c1/Atletico_Madrid_logo.svg'},\n",
       " {'_links': {'self': {'href': 'http://api.football-data.org/v1/teams/559'},\n",
       "   'fixtures': {'href': 'http://api.football-data.org/v1/teams/559/fixtures'},\n",
       "   'players': {'href': 'http://api.football-data.org/v1/teams/559/players'}},\n",
       "  'name': 'Sevilla FC',\n",
       "  'code': 'SEV',\n",
       "  'shortName': 'Sevilla',\n",
       "  'squadMarketValue': None,\n",
       "  'crestUrl': 'http://upload.wikimedia.org/wikipedia/en/8/86/Sevilla_cf_200px.png'},\n",
       " {'_links': {'self': {'href': 'http://api.football-data.org/v1/teams/80'},\n",
       "   'fixtures': {'href': 'http://api.football-data.org/v1/teams/80/fixtures'},\n",
       "   'players': {'href': 'http://api.football-data.org/v1/teams/80/players'}},\n",
       "  'name': 'RCD Espanyol',\n",
       "  'code': 'ESP',\n",
       "  'shortName': 'Espanyol',\n",
       "  'squadMarketValue': None,\n",
       "  'crestUrl': 'http://upload.wikimedia.org/wikipedia/de/a/a7/RCD_Espanyol_De_Barcelona.svg'},\n",
       " {'_links': {'self': {'href': 'http://api.football-data.org/v1/teams/77'},\n",
       "   'fixtures': {'href': 'http://api.football-data.org/v1/teams/77/fixtures'},\n",
       "   'players': {'href': 'http://api.football-data.org/v1/teams/77/players'}},\n",
       "  'name': 'Athletic Club',\n",
       "  'code': 'BIL',\n",
       "  'shortName': 'Athletic',\n",
       "  'squadMarketValue': None,\n",
       "  'crestUrl': 'http://upload.wikimedia.org/wikipedia/de/7/7f/Athletic_Club_Bilbao.svg'},\n",
       " {'_links': {'self': {'href': 'http://api.football-data.org/v1/teams/82'},\n",
       "   'fixtures': {'href': 'http://api.football-data.org/v1/teams/82/fixtures'},\n",
       "   'players': {'href': 'http://api.football-data.org/v1/teams/82/players'}},\n",
       "  'name': 'Getafe CF',\n",
       "  'code': 'FCG',\n",
       "  'shortName': 'Getafe',\n",
       "  'squadMarketValue': None,\n",
       "  'crestUrl': 'http://upload.wikimedia.org/wikipedia/de/d/de/Getafe_CF.svg'},\n",
       " {'_links': {'self': {'href': 'http://api.football-data.org/v1/teams/81'},\n",
       "   'fixtures': {'href': 'http://api.football-data.org/v1/teams/81/fixtures'},\n",
       "   'players': {'href': 'http://api.football-data.org/v1/teams/81/players'}},\n",
       "  'name': 'FC Barcelona',\n",
       "  'code': 'FCB',\n",
       "  'shortName': 'Barcelona',\n",
       "  'squadMarketValue': None,\n",
       "  'crestUrl': 'http://upload.wikimedia.org/wikipedia/de/a/aa/Fc_barcelona.svg'},\n",
       " {'_links': {'self': {'href': 'http://api.football-data.org/v1/teams/90'},\n",
       "   'fixtures': {'href': 'http://api.football-data.org/v1/teams/90/fixtures'},\n",
       "   'players': {'href': 'http://api.football-data.org/v1/teams/90/players'}},\n",
       "  'name': 'Real Betis',\n",
       "  'code': 'BET',\n",
       "  'shortName': 'Betis',\n",
       "  'squadMarketValue': None,\n",
       "  'crestUrl': 'http://upload.wikimedia.org/wikipedia/de/4/43/Real_Betis.svg'},\n",
       " {'_links': {'self': {'href': 'http://api.football-data.org/v1/teams/560'},\n",
       "   'fixtures': {'href': 'http://api.football-data.org/v1/teams/560/fixtures'},\n",
       "   'players': {'href': 'http://api.football-data.org/v1/teams/560/players'}},\n",
       "  'name': 'RC Deportivo La Coruna',\n",
       "  'code': 'LAC',\n",
       "  'shortName': 'Deportivo',\n",
       "  'squadMarketValue': None,\n",
       "  'crestUrl': 'http://upload.wikimedia.org/wikipedia/en/4/4e/RC_Deportivo_La_Coruña_logo.svg'},\n",
       " {'_links': {'self': {'href': 'http://api.football-data.org/v1/teams/86'},\n",
       "   'fixtures': {'href': 'http://api.football-data.org/v1/teams/86/fixtures'},\n",
       "   'players': {'href': 'http://api.football-data.org/v1/teams/86/players'}},\n",
       "  'name': 'Real Madrid CF',\n",
       "  'code': 'MAD',\n",
       "  'shortName': 'Real Madrid',\n",
       "  'squadMarketValue': None,\n",
       "  'crestUrl': 'http://upload.wikimedia.org/wikipedia/de/3/3f/Real_Madrid_Logo.svg'},\n",
       " {'_links': {'self': {'href': 'http://api.football-data.org/v1/teams/88'},\n",
       "   'fixtures': {'href': 'http://api.football-data.org/v1/teams/88/fixtures'},\n",
       "   'players': {'href': 'http://api.football-data.org/v1/teams/88/players'}},\n",
       "  'name': 'Levante UD',\n",
       "  'code': 'LUD',\n",
       "  'shortName': 'Levante',\n",
       "  'squadMarketValue': None,\n",
       "  'crestUrl': 'http://upload.wikimedia.org/wikipedia/de/1/1f/Levante_ud.svg'},\n",
       " {'_links': {'self': {'href': 'http://api.football-data.org/v1/teams/94'},\n",
       "   'fixtures': {'href': 'http://api.football-data.org/v1/teams/94/fixtures'},\n",
       "   'players': {'href': 'http://api.football-data.org/v1/teams/94/players'}},\n",
       "  'name': 'Villarreal CF',\n",
       "  'code': 'VCF',\n",
       "  'shortName': 'Villareal',\n",
       "  'squadMarketValue': None,\n",
       "  'crestUrl': 'http://upload.wikimedia.org/wikipedia/de/7/70/Villarreal_CF_logo.svg'},\n",
       " {'_links': {'self': {'href': 'http://api.football-data.org/v1/teams/84'},\n",
       "   'fixtures': {'href': 'http://api.football-data.org/v1/teams/84/fixtures'},\n",
       "   'players': {'href': 'http://api.football-data.org/v1/teams/84/players'}},\n",
       "  'name': 'Málaga CF',\n",
       "  'code': 'MAL',\n",
       "  'shortName': 'Málaga',\n",
       "  'squadMarketValue': None,\n",
       "  'crestUrl': 'http://upload.wikimedia.org/wikipedia/de/e/e8/FC_Málaga.svg'},\n",
       " {'_links': {'self': {'href': 'http://api.football-data.org/v1/teams/278'},\n",
       "   'fixtures': {'href': 'http://api.football-data.org/v1/teams/278/fixtures'},\n",
       "   'players': {'href': 'http://api.football-data.org/v1/teams/278/players'}},\n",
       "  'name': 'SD Eibar',\n",
       "  'code': 'EIB',\n",
       "  'shortName': 'Eibar',\n",
       "  'squadMarketValue': None,\n",
       "  'crestUrl': 'http://upload.wikimedia.org/wikipedia/en/7/75/SD_Eibar_logo.svg'}]"
      ]
     },
     "execution_count": 6,
     "metadata": {},
     "output_type": "execute_result"
    }
   ],
   "source": [
    "teams = call_api('http://api.football-data.org/v1/soccerseasons/455/teams', 'teams')\n",
    "teams"
   ]
  },
  {
   "cell_type": "code",
   "execution_count": 7,
   "metadata": {},
   "outputs": [
    {
     "name": "stdout",
     "output_type": "stream",
     "text": [
      "Team \"CD Leganes\",0 goal, 0 loss\n",
      "Team \"Deportivo Alavés\",0 goal, 0 loss\n",
      "Team \"Valencia CF\",0 goal, 0 loss\n",
      "Team \"UD Las Palmas\",0 goal, 0 loss\n",
      "Team \"RC Celta de Vigo\",0 goal, 0 loss\n",
      "Team \"Real Sociedad de Fútbol\",0 goal, 0 loss\n",
      "Team \"Girona FC\",0 goal, 0 loss\n",
      "Team \"Club Atlético de Madrid\",0 goal, 0 loss\n",
      "Team \"Sevilla FC\",0 goal, 0 loss\n",
      "Team \"RCD Espanyol\",0 goal, 0 loss\n",
      "Team \"Athletic Club\",0 goal, 0 loss\n",
      "Team \"Getafe CF\",0 goal, 0 loss\n",
      "Team \"FC Barcelona\",0 goal, 0 loss\n",
      "Team \"Real Betis\",0 goal, 0 loss\n",
      "Team \"RC Deportivo La Coruna\",0 goal, 0 loss\n",
      "Team \"Real Madrid CF\",0 goal, 0 loss\n",
      "{'error': 'You reached your request limit. Wait 53 seconds.'}\n",
      "{'error': 'You reached your request limit. Wait 53 seconds.'}\n"
     ]
    },
    {
     "ename": "TypeError",
     "evalue": "'NoneType' object is not iterable",
     "output_type": "error",
     "traceback": [
      "\u001b[0;31m---------------------------------------------------------------------------\u001b[0m",
      "\u001b[0;31mTypeError\u001b[0m                                 Traceback (most recent call last)",
      "\u001b[0;32m<ipython-input-7-b5610f5b9870>\u001b[0m in \u001b[0;36m<module>\u001b[0;34m()\u001b[0m\n\u001b[1;32m      4\u001b[0m     \u001b[0mgoal\u001b[0m \u001b[0;34m=\u001b[0m \u001b[0;36m0\u001b[0m\u001b[0;34m\u001b[0m\u001b[0m\n\u001b[1;32m      5\u001b[0m     \u001b[0mloss\u001b[0m \u001b[0;34m=\u001b[0m \u001b[0;36m0\u001b[0m\u001b[0;34m\u001b[0m\u001b[0m\n\u001b[0;32m----> 6\u001b[0;31m     \u001b[0;32mfor\u001b[0m \u001b[0mf\u001b[0m \u001b[0;32min\u001b[0m \u001b[0mfixtures\u001b[0m\u001b[0;34m:\u001b[0m\u001b[0;34m\u001b[0m\u001b[0m\n\u001b[0m\u001b[1;32m      7\u001b[0m         \u001b[0;32mif\u001b[0m \u001b[0mf\u001b[0m\u001b[0;34m[\u001b[0m\u001b[0;34m'status'\u001b[0m\u001b[0;34m]\u001b[0m \u001b[0;34m==\u001b[0m \u001b[0;34m'FINISHED'\u001b[0m\u001b[0;34m:\u001b[0m\u001b[0;34m\u001b[0m\u001b[0m\n\u001b[1;32m      8\u001b[0m             \u001b[0mmatches\u001b[0m \u001b[0;34m+=\u001b[0m \u001b[0;36m1\u001b[0m\u001b[0;34m\u001b[0m\u001b[0m\n",
      "\u001b[0;31mTypeError\u001b[0m: 'NoneType' object is not iterable"
     ]
    }
   ],
   "source": [
    "for team in teams:\n",
    "    players = call_api(team['_links']['players']['href'], 'players')\n",
    "    fixtures = call_api(team['_links']['fixtures']['href'], 'fixtures')\n",
    "    goal = 0\n",
    "    loss = 0 \n",
    "    for f in fixtures:\n",
    "        if f['status'] == 'FINISHED':\n",
    "            matches += 1\n",
    "            if team['name'] == f['homeTeamName']:\n",
    "                goal += f['result']['goalsHomeTeam'] if f['result']['goalsHomeTeam'] else 0            \n",
    "                loss += 1 if f['result']['goalsHomeTeam'] < f['result']['goalsAwayTeam'] else 0\n",
    "            elif team['name'] == f['awayTeamName']:\n",
    "                goal += f['result']['goalsAwayTeam'] if f['result']['goalsAwayTeam'] else 0           \n",
    "                loss += 1 if f['result']['goalsAwayTeam'] < f['result']['goalsHomeTeam'] else 0\n",
    "    print('Team \"{}\",{} goal, {} loss'.format(team['name'], goal, loss))\n",
    "    team['goal'] = goal\n",
    "    team['loss'] = loss"
   ]
  },
  {
   "cell_type": "code",
   "execution_count": 8,
   "metadata": {},
   "outputs": [
    {
     "ename": "NameError",
     "evalue": "name 'team_for_pd' is not defined",
     "output_type": "error",
     "traceback": [
      "\u001b[0;31m---------------------------------------------------------------------------\u001b[0m",
      "\u001b[0;31mNameError\u001b[0m                                 Traceback (most recent call last)",
      "\u001b[0;32m<ipython-input-8-d40123e198ce>\u001b[0m in \u001b[0;36m<module>\u001b[0;34m()\u001b[0m\n\u001b[0;32m----> 1\u001b[0;31m \u001b[0mteams_pd\u001b[0m \u001b[0;34m=\u001b[0m \u001b[0mpd\u001b[0m\u001b[0;34m.\u001b[0m\u001b[0mDataFrame\u001b[0m\u001b[0;34m(\u001b[0m\u001b[0mteam_for_pd\u001b[0m\u001b[0;34m)\u001b[0m\u001b[0;34m\u001b[0m\u001b[0m\n\u001b[0m\u001b[1;32m      2\u001b[0m \u001b[0mteams_pd\u001b[0m\u001b[0;34m\u001b[0m\u001b[0m\n",
      "\u001b[0;31mNameError\u001b[0m: name 'team_for_pd' is not defined"
     ]
    }
   ],
   "source": [
    "teams_pd = pd.DataFrame(team_for_pd)\n",
    "teams_pd"
   ]
  },
  {
   "cell_type": "code",
   "execution_count": 9,
   "metadata": {},
   "outputs": [
    {
     "ename": "NameError",
     "evalue": "name 'team_for_pd' is not defined",
     "output_type": "error",
     "traceback": [
      "\u001b[0;31m---------------------------------------------------------------------------\u001b[0m",
      "\u001b[0;31mNameError\u001b[0m                                 Traceback (most recent call last)",
      "\u001b[0;32m<ipython-input-9-d40123e198ce>\u001b[0m in \u001b[0;36m<module>\u001b[0;34m()\u001b[0m\n\u001b[0;32m----> 1\u001b[0;31m \u001b[0mteams_pd\u001b[0m \u001b[0;34m=\u001b[0m \u001b[0mpd\u001b[0m\u001b[0;34m.\u001b[0m\u001b[0mDataFrame\u001b[0m\u001b[0;34m(\u001b[0m\u001b[0mteam_for_pd\u001b[0m\u001b[0;34m)\u001b[0m\u001b[0;34m\u001b[0m\u001b[0m\n\u001b[0m\u001b[1;32m      2\u001b[0m \u001b[0mteams_pd\u001b[0m\u001b[0;34m\u001b[0m\u001b[0m\n",
      "\u001b[0;31mNameError\u001b[0m: name 'team_for_pd' is not defined"
     ]
    }
   ],
   "source": [
    "teams_pd = pd.DataFrame(team_for_pd)\n",
    "teams_pd"
   ]
  },
  {
   "cell_type": "code",
   "execution_count": 10,
   "metadata": {},
   "outputs": [
    {
     "name": "stdout",
     "output_type": "stream",
     "text": [
      "Team \"CD Leganes\",0 goal, 0 loss\n",
      "Team \"Deportivo Alavés\",0 goal, 0 loss\n",
      "Team \"Valencia CF\",0 goal, 0 loss\n",
      "{'error': 'The resource you are looking for does not exist.'}\n"
     ]
    },
    {
     "ename": "TypeError",
     "evalue": "'NoneType' object is not iterable",
     "output_type": "error",
     "traceback": [
      "\u001b[0;31m---------------------------------------------------------------------------\u001b[0m",
      "\u001b[0;31mTypeError\u001b[0m                                 Traceback (most recent call last)",
      "\u001b[0;32m<ipython-input-10-b5610f5b9870>\u001b[0m in \u001b[0;36m<module>\u001b[0;34m()\u001b[0m\n\u001b[1;32m      4\u001b[0m     \u001b[0mgoal\u001b[0m \u001b[0;34m=\u001b[0m \u001b[0;36m0\u001b[0m\u001b[0;34m\u001b[0m\u001b[0m\n\u001b[1;32m      5\u001b[0m     \u001b[0mloss\u001b[0m \u001b[0;34m=\u001b[0m \u001b[0;36m0\u001b[0m\u001b[0;34m\u001b[0m\u001b[0m\n\u001b[0;32m----> 6\u001b[0;31m     \u001b[0;32mfor\u001b[0m \u001b[0mf\u001b[0m \u001b[0;32min\u001b[0m \u001b[0mfixtures\u001b[0m\u001b[0;34m:\u001b[0m\u001b[0;34m\u001b[0m\u001b[0m\n\u001b[0m\u001b[1;32m      7\u001b[0m         \u001b[0;32mif\u001b[0m \u001b[0mf\u001b[0m\u001b[0;34m[\u001b[0m\u001b[0;34m'status'\u001b[0m\u001b[0;34m]\u001b[0m \u001b[0;34m==\u001b[0m \u001b[0;34m'FINISHED'\u001b[0m\u001b[0;34m:\u001b[0m\u001b[0;34m\u001b[0m\u001b[0m\n\u001b[1;32m      8\u001b[0m             \u001b[0mmatches\u001b[0m \u001b[0;34m+=\u001b[0m \u001b[0;36m1\u001b[0m\u001b[0;34m\u001b[0m\u001b[0m\n",
      "\u001b[0;31mTypeError\u001b[0m: 'NoneType' object is not iterable"
     ]
    }
   ],
   "source": [
    "for team in teams:\n",
    "    players = call_api(team['_links']['players']['href'], 'players')\n",
    "    fixtures = call_api(team['_links']['fixtures']['href'], 'fixtures')\n",
    "    goal = 0\n",
    "    loss = 0 \n",
    "    for f in fixtures:\n",
    "        if f['status'] == 'FINISHED':\n",
    "            matches += 1\n",
    "            if team['name'] == f['homeTeamName']:\n",
    "                goal += f['result']['goalsHomeTeam'] if f['result']['goalsHomeTeam'] else 0            \n",
    "                loss += 1 if f['result']['goalsHomeTeam'] < f['result']['goalsAwayTeam'] else 0\n",
    "            elif team['name'] == f['awayTeamName']:\n",
    "                goal += f['result']['goalsAwayTeam'] if f['result']['goalsAwayTeam'] else 0           \n",
    "                loss += 1 if f['result']['goalsAwayTeam'] < f['result']['goalsHomeTeam'] else 0\n",
    "    print('Team \"{}\",{} goal, {} loss'.format(team['name'], goal, loss))\n",
    "    team['goal'] = goal\n",
    "    team['loss'] = loss"
   ]
  },
  {
   "cell_type": "code",
   "execution_count": null,
   "metadata": {},
   "outputs": [],
   "source": []
  }
 ],
 "metadata": {
  "kernelspec": {
   "display_name": "Python 3",
   "language": "python",
   "name": "python3"
  },
  "language_info": {
   "codemirror_mode": {
    "name": "ipython",
    "version": 3
   },
   "file_extension": ".py",
   "mimetype": "text/x-python",
   "name": "python",
   "nbconvert_exporter": "python",
   "pygments_lexer": "ipython3",
   "version": "3.6.5"
  }
 },
 "nbformat": 4,
 "nbformat_minor": 2
}
